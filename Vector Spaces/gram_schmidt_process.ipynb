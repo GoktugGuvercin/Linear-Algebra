{
  "nbformat": 4,
  "nbformat_minor": 0,
  "metadata": {
    "colab": {
      "provenance": []
    },
    "kernelspec": {
      "name": "python3",
      "display_name": "Python 3"
    },
    "language_info": {
      "name": "python"
    }
  },
  "cells": [
    {
      "cell_type": "code",
      "execution_count": 15,
      "metadata": {
        "id": "qBkgSlym6ggk"
      },
      "outputs": [],
      "source": [
        "import numpy as np"
      ]
    },
    {
      "cell_type": "code",
      "source": [
        "def norm(vector):\n",
        "  return np.sqrt(np.dot(vector, vector))\n",
        "\n",
        "def gram_schmidt(vectors):\n",
        "\n",
        "  orthogonals, orthonormals = [], []\n",
        "\n",
        "  for i in range(len(vectors)):\n",
        "    o = vectors[i]\n",
        "    for j in range(i-1, -1, -1):\n",
        "      proj = np.dot(o, orthonormals[j]) * orthonormals[j]\n",
        "      o -= proj\n",
        "    \n",
        "    orthogonals.append(o)\n",
        "    e = o / norm(o)\n",
        "    orthonormals.append(e)\n",
        "    \n",
        "  return orthogonals, orthonormals"
      ],
      "metadata": {
        "id": "V4UWx4ZI67hr"
      },
      "execution_count": 16,
      "outputs": []
    },
    {
      "cell_type": "code",
      "source": [
        "vectors = np.array([[1, 2, 1], [3, 6, 9], [8, 1, 5]], dtype=np.float64)\n",
        "orthogonals, orthonormals = gram_schmidt(vectors)\n",
        "print(orthogonals)\n",
        "print(orthonormals)"
      ],
      "metadata": {
        "colab": {
          "base_uri": "https://localhost:8080/"
        },
        "id": "2z1Ut5_XFNLx",
        "outputId": "049cbfd0-ae16-43dc-f963-564abb568ac7"
      },
      "execution_count": 17,
      "outputs": [
        {
          "output_type": "stream",
          "name": "stdout",
          "text": [
            "[array([1., 2., 1.]), array([-1., -2.,  5.]), array([ 6.00000000e+00, -3.00000000e+00,  2.22044605e-15])]\n",
            "[array([0.40824829, 0.81649658, 0.40824829]), array([-0.18257419, -0.36514837,  0.91287093]), array([ 8.94427191e-01, -4.47213595e-01,  3.31004554e-16])]\n"
          ]
        }
      ]
    }
  ]
}